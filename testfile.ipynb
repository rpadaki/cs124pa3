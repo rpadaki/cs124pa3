{
 "cells": [
  {
   "cell_type": "code",
   "execution_count": 15,
   "metadata": {
    "collapsed": false
   },
   "outputs": [
    {
     "name": "stdout",
     "output_type": "stream",
     "text": [
      "randints:\n",
      "0.0124199390411\n",
      "repstd and kkalg:\n",
      "239195\n",
      "0.0106580257416\n",
      "repstd and rralg:\n",
      "239195\n",
      "0.00621008872986\n",
      "repstd and hcalg:\n",
      "239195\n",
      "0.0082540512085\n",
      "repstd and saalg:\n",
      "239195\n",
      "0.00579810142517\n",
      "repprep and kkalg:\n",
      "239195\n",
      "0.00574517250061\n",
      "repprep and rralg:\n",
      "239195\n",
      "0.00574016571045\n",
      "repprep and hcalg:\n",
      "239195\n",
      "0.00690412521362\n",
      "repprep and saalg:\n",
      "239195\n",
      "0.00652694702148\n"
     ]
    }
   ],
   "source": [
    "import subprocess\n",
    "from timeit import default_timer as timer\n",
    "cmd = ['make', \"randints\"]\n",
    "print \"randints:\"\n",
    "start = timer()\n",
    "cmd = ['./randints', \"randints.txt\"]\n",
    "out1, err = subprocess.Popen(cmd, stdout=subprocess.PIPE).communicate()\n",
    "end = timer()\n",
    "print (end - start)\n",
    "cmd = ['make', \"clean\"]\n",
    "\n",
    "X = ['repstd', 'repprep']\n",
    "Y = ['kkalg', 'rralg', 'hcalg', 'saalg']\n",
    "\n",
    "for x in X:\n",
    "    for y in Y:\n",
    "        print x + \" and \" + y + \":\"\n",
    "        cmd = ['make', 'x', 'y', 'kk']\n",
    "        start = timer()\n",
    "        cmd = ['./kk', \"randints.txt\"]\n",
    "        out2, err = subprocess.Popen(cmd, stdout=subprocess.PIPE).communicate()\n",
    "        print out2\n",
    "        end = timer()\n",
    "        print (end - start)\n"
   ]
  }
 ],
 "metadata": {
  "kernelspec": {
   "display_name": "Python 2",
   "language": "python",
   "name": "python2"
  },
  "language_info": {
   "codemirror_mode": {
    "name": "ipython",
    "version": 2
   },
   "file_extension": ".py",
   "mimetype": "text/x-python",
   "name": "python",
   "nbconvert_exporter": "python",
   "pygments_lexer": "ipython2",
   "version": "2.7.13"
  }
 },
 "nbformat": 4,
 "nbformat_minor": 2
}
